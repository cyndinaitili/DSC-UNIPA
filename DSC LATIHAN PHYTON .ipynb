{
 "cells": [
  {
   "cell_type": "code",
   "execution_count": 1,
   "metadata": {},
   "outputs": [
    {
     "name": "stdout",
     "output_type": "stream",
     "text": [
      "DSC Belajar Phyton\n"
     ]
    }
   ],
   "source": [
    "#Belajar Bahasa Pemrograman Phyton menggunakan tools Jupyter Notebook\n",
    "#Fungsi Print\n",
    "print(\"DSC Belajar Phyton\")"
   ]
  },
  {
   "cell_type": "code",
   "execution_count": 2,
   "metadata": {},
   "outputs": [
    {
     "name": "stdout",
     "output_type": "stream",
     "text": [
      "DSC Belajar Phyton, R\n"
     ]
    }
   ],
   "source": [
    "print(\"DSC Belajar Phyton, R\")"
   ]
  },
  {
   "cell_type": "code",
   "execution_count": 3,
   "metadata": {},
   "outputs": [
    {
     "name": "stdout",
     "output_type": "stream",
     "text": [
      "375\n"
     ]
    }
   ],
   "source": [
    "panjang = 25\n",
    "lebar = 15\n",
    "luas = panjang * lebar\n",
    "print (luas)"
   ]
  },
  {
   "cell_type": "code",
   "execution_count": 4,
   "metadata": {},
   "outputs": [
    {
     "name": "stdout",
     "output_type": "stream",
     "text": [
      "Nama kamu siapa ? Boleh kenalan ?\n",
      "Namuku cyndi yah! Salam kenal.\n"
     ]
    }
   ],
   "source": [
    "print(\"Nama kamu siapa ? Boleh kenalan ?\")\n",
    "print(\"Namuku cyndi yah! Salam kenal.\")"
   ]
  },
  {
   "cell_type": "code",
   "execution_count": 5,
   "metadata": {},
   "outputs": [
    {
     "name": "stdout",
     "output_type": "stream",
     "text": [
      "Nama kamu siapa ?\n",
      "Boleh kenalan ?\n",
      "Namuku cyndi yah!\n",
      "Salam kenal.\n"
     ]
    }
   ],
   "source": [
    "print(\"Nama kamu siapa ?\\nBoleh kenalan ?\")\n",
    "print(\"Namuku cyndi yah!\\nSalam kenal.\")"
   ]
  },
  {
   "cell_type": "code",
   "execution_count": 6,
   "metadata": {},
   "outputs": [
    {
     "name": "stdout",
     "output_type": "stream",
     "text": [
      "Nama kamu siapa ?\tBoleh kenalan ?\n",
      "Namuku cyndi yah!\tSalam kenal.\n"
     ]
    }
   ],
   "source": [
    "print(\"Nama kamu siapa ?\\tBoleh kenalan ?\")\n",
    "print(\"Namuku cyndi yah!\\tSalam kenal.\")"
   ]
  },
  {
   "cell_type": "code",
   "execution_count": 7,
   "metadata": {},
   "outputs": [],
   "source": [
    "#\\n memberikan perintah baris baru\n",
    "#\\t memberikan perintah tab\n",
    "#tanda koma (,) dijadikan tanda spasi dalam kalimat\n"
   ]
  },
  {
   "cell_type": "code",
   "execution_count": 8,
   "metadata": {},
   "outputs": [
    {
     "name": "stdout",
     "output_type": "stream",
     "text": [
      "Mari kita belajar python. Bahasa pemrograman python\n"
     ]
    }
   ],
   "source": [
    "print(\"Mari kita belajar\", \"python.\", end=\" \" )\n",
    "print(\"Bahasa pemrograman python\")"
   ]
  },
  {
   "cell_type": "code",
   "execution_count": 9,
   "metadata": {},
   "outputs": [
    {
     "name": "stdout",
     "output_type": "stream",
     "text": [
      "Mari/Kita/Belajar/Python\n"
     ]
    }
   ],
   "source": [
    "print(\"Mari\",\"Kita\",\"Belajar\",\"Python\", sep=\"/\")"
   ]
  },
  {
   "cell_type": "code",
   "execution_count": 10,
   "metadata": {},
   "outputs": [],
   "source": [
    "#end= memberikan perintah sesuai dengan yang ada didalam tanda kutip misalnya spasi,slash dll\n",
    "#sep= memberikan perintah memasukkan tanda sebagai penganti spapsi diantara kata"
   ]
  },
  {
   "cell_type": "code",
   "execution_count": 11,
   "metadata": {},
   "outputs": [
    {
     "name": "stdout",
     "output_type": "stream",
     "text": [
      "Mari_Kita_Belajar_Python*Bahasa*Python\n",
      "Semangat ya!\n"
     ]
    }
   ],
   "source": [
    "print(\"Mari\",\"Kita\",\"Belajar\",\"Python\", sep=\"_\", end=\"*\")\n",
    "print(\"Bahasa\", \"Python\", sep=\"*\", end=\"\\n\")\n",
    "print(\"Semangat ya!\")"
   ]
  },
  {
   "cell_type": "code",
   "execution_count": 12,
   "metadata": {},
   "outputs": [],
   "source": [
    "# tanda(#) merupakan tanda comment dan tidak muncul d output jika dirun"
   ]
  },
  {
   "cell_type": "code",
   "execution_count": 13,
   "metadata": {},
   "outputs": [],
   "source": [
    "#LATIHAN TPE DATA"
   ]
  },
  {
   "cell_type": "code",
   "execution_count": 14,
   "metadata": {},
   "outputs": [
    {
     "data": {
      "text/plain": [
       "300000000.0"
      ]
     },
     "execution_count": 14,
     "metadata": {},
     "output_type": "execute_result"
    }
   ],
   "source": [
    "3E8"
   ]
  },
  {
   "cell_type": "code",
   "execution_count": 15,
   "metadata": {},
   "outputs": [
    {
     "data": {
      "text/plain": [
       "0.00662"
      ]
     },
     "execution_count": 15,
     "metadata": {},
     "output_type": "execute_result"
    }
   ],
   "source": [
    "6.62E-3"
   ]
  },
  {
   "cell_type": "code",
   "execution_count": 16,
   "metadata": {},
   "outputs": [
    {
     "name": "stdout",
     "output_type": "stream",
     "text": [
      "I'am\n",
      "I'am\n",
      "\"\"learning\"\"\n",
      "\"\"\"python\"\"\"\n"
     ]
    }
   ],
   "source": [
    "print('I\\'am')\n",
    "print(\"I'am\")\n",
    "print(\"\\\"\\\"learning\\\"\\\"\")\n",
    "print(\"\\\"\\\"\\\"python\\\"\\\"\\\"\")"
   ]
  },
  {
   "cell_type": "code",
   "execution_count": 17,
   "metadata": {},
   "outputs": [
    {
     "data": {
      "text/plain": [
       "2.0"
      ]
     },
     "execution_count": 17,
     "metadata": {},
     "output_type": "execute_result"
    }
   ],
   "source": [
    "#LATIHAN OPERATOR SEDERHANA\n",
    "10+5 #Addition\n",
    "10-5 #Susbtraction\n",
    "10*5 #Multiplication\n",
    "10/5 #classic division"
   ]
  },
  {
   "cell_type": "code",
   "execution_count": 18,
   "metadata": {},
   "outputs": [
    {
     "name": "stdout",
     "output_type": "stream",
     "text": [
      "2\n",
      "2.0\n"
     ]
    }
   ],
   "source": [
    "print(10//5) #pembulatan kebawah menghasilkan integer\n",
    "print(10.2//5) #pembulatan kebawah menghasilkan float"
   ]
  },
  {
   "cell_type": "code",
   "execution_count": 19,
   "metadata": {},
   "outputs": [
    {
     "name": "stdout",
     "output_type": "stream",
     "text": [
      "100000\n",
      "100000.0\n",
      "100000.0\n",
      "100000.0\n"
     ]
    }
   ],
   "source": [
    "#EXPONANTIATION\n",
    "print(10**5)\n",
    "print(10.**5.)\n",
    "print(10**5.)\n",
    "print(10.**5)"
   ]
  },
  {
   "cell_type": "code",
   "execution_count": 20,
   "metadata": {},
   "outputs": [
    {
     "name": "stdout",
     "output_type": "stream",
     "text": [
      "0\n",
      "3\n"
     ]
    }
   ],
   "source": [
    "#MODULUS\n",
    "print(10%5) #sisa pembagian\n",
    "print(15%4)"
   ]
  },
  {
   "cell_type": "code",
   "execution_count": 21,
   "metadata": {},
   "outputs": [
    {
     "data": {
      "text/plain": [
       "-759369.2857142857"
      ]
     },
     "execution_count": 21,
     "metadata": {},
     "output_type": "execute_result"
    }
   ],
   "source": [
    "7-5/14*12+3**9%12-(15.**5.)"
   ]
  },
  {
   "cell_type": "code",
   "execution_count": 22,
   "metadata": {},
   "outputs": [
    {
     "name": "stdout",
     "output_type": "stream",
     "text": [
      "0\n"
     ]
    }
   ],
   "source": [
    "print(10 % 5 % 3 ) #operasi dilakukan dari kiri (10%5)%3"
   ]
  },
  {
   "cell_type": "code",
   "execution_count": 23,
   "metadata": {},
   "outputs": [
    {
     "name": "stdout",
     "output_type": "stream",
     "text": [
      "100000000000000000000000000000000000000000000000000000000000000000000000000000000000000000000000000000000000000000000000000000\n"
     ]
    }
   ],
   "source": [
    "print(10**5**3) #operasi dari kanan"
   ]
  },
  {
   "cell_type": "code",
   "execution_count": 24,
   "metadata": {},
   "outputs": [],
   "source": [
    "#VARIABEL\n",
    "tinggi_1 = 178\n",
    "tinggi_2 = 159"
   ]
  },
  {
   "cell_type": "code",
   "execution_count": 25,
   "metadata": {},
   "outputs": [],
   "source": [
    "berat_1 = 56\n",
    "berat_2 = 45"
   ]
  },
  {
   "cell_type": "code",
   "execution_count": 26,
   "metadata": {},
   "outputs": [
    {
     "name": "stdout",
     "output_type": "stream",
     "text": [
      "178 159\n",
      "56 45\n"
     ]
    }
   ],
   "source": [
    "print(tinggi_1,tinggi_2)\n",
    "print(berat_1,berat_2)"
   ]
  },
  {
   "cell_type": "code",
   "execution_count": 27,
   "metadata": {},
   "outputs": [
    {
     "name": "stdout",
     "output_type": "stream",
     "text": [
      "Berapa tinggimu? ->  178\n",
      "Berapa beratmu? -> 59\n"
     ]
    }
   ],
   "source": [
    "tinggi =\"178\"\n",
    "print(\"Berapa tinggimu? -> \", tinggi) #tinggi harus string\n",
    "berat = \"59\"\n",
    "print(\"Berapa beratmu? ->\", berat) #berat harus numerik"
   ]
  },
  {
   "cell_type": "code",
   "execution_count": 28,
   "metadata": {},
   "outputs": [
    {
     "name": "stdout",
     "output_type": "stream",
     "text": [
      "3\n"
     ]
    }
   ],
   "source": [
    "t1=1\n",
    "t1=2\n",
    "t1=t1+1\n",
    "print(t1) #t1 yang dipakai adalah t1 yang paling akhir yaitu 2"
   ]
  },
  {
   "cell_type": "code",
   "execution_count": 29,
   "metadata": {},
   "outputs": [
    {
     "name": "stdout",
     "output_type": "stream",
     "text": [
      "7\n",
      "5\n",
      "13\n"
     ]
    }
   ],
   "source": [
    "var = 7\n",
    "print(var)\n",
    "var = 5\n",
    "print(var)\n",
    "var += 8\n",
    "print(var) #var = 8+5"
   ]
  },
  {
   "cell_type": "code",
   "execution_count": 30,
   "metadata": {},
   "outputs": [
    {
     "name": "stdout",
     "output_type": "stream",
     "text": [
      "nilai x: 2\n",
      "nilai y: 2\n",
      "nilai z: 3\n"
     ]
    }
   ],
   "source": [
    "x,y,z=2,2,3\n",
    "print(\"nilai x:\", x)\n",
    "print(\"nilai y:\", y)\n",
    "print(\"nilai z:\", z)"
   ]
  },
  {
   "cell_type": "code",
   "execution_count": 31,
   "metadata": {},
   "outputs": [],
   "source": [
    "#SHORCUT OPERATOR\n",
    "i=1\n",
    "j=2\n",
    "k=3\n",
    "l=4\n",
    "m=5\n",
    "n=6"
   ]
  },
  {
   "cell_type": "code",
   "execution_count": 32,
   "metadata": {},
   "outputs": [
    {
     "name": "stdout",
     "output_type": "stream",
     "text": [
      "9\n"
     ]
    }
   ],
   "source": [
    "i += 4*2\n",
    "print(i)"
   ]
  },
  {
   "cell_type": "code",
   "execution_count": 33,
   "metadata": {},
   "outputs": [
    {
     "name": "stdout",
     "output_type": "stream",
     "text": [
      "1.5\n"
     ]
    }
   ],
   "source": [
    "k /= 2\n",
    "print(k)"
   ]
  },
  {
   "cell_type": "code",
   "execution_count": 34,
   "metadata": {},
   "outputs": [
    {
     "name": "stdout",
     "output_type": "stream",
     "text": [
      "4\n"
     ]
    }
   ],
   "source": [
    "l %= 7\n",
    "print(l)"
   ]
  },
  {
   "cell_type": "code",
   "execution_count": 35,
   "metadata": {},
   "outputs": [
    {
     "name": "stdout",
     "output_type": "stream",
     "text": [
      "-5\n"
     ]
    }
   ],
   "source": [
    "m -= 10\n",
    "print(m)"
   ]
  },
  {
   "cell_type": "code",
   "execution_count": 36,
   "metadata": {},
   "outputs": [
    {
     "name": "stdout",
     "output_type": "stream",
     "text": [
      "13060694016\n"
     ]
    }
   ],
   "source": [
    "n **= 13\n",
    "print(n)"
   ]
  },
  {
   "cell_type": "code",
   "execution_count": 37,
   "metadata": {},
   "outputs": [
    {
     "name": "stdout",
     "output_type": "stream",
     "text": [
      "Namamu siapa? :Theofila Prima Cyndi Naitili\n",
      "Namaku Theofila Prima Cyndi Naitili\n"
     ]
    }
   ],
   "source": [
    "#FUNGSI INPUT\n",
    "nama =input(\"Namamu siapa? :\") #hasil fungsi input() berupa string\n",
    "print(\"Namaku\", nama)"
   ]
  },
  {
   "cell_type": "code",
   "execution_count": 39,
   "metadata": {},
   "outputs": [
    {
     "name": "stdout",
     "output_type": "stream",
     "text": [
      "Nilai IPS semester 1 :3.58\n",
      "Nilai IPS semester 2 :3.76\n",
      "Jadi Nilai IPK ku adalah 3.67\n"
     ]
    }
   ],
   "source": [
    "ips_1 = float(input(\"Nilai IPS semester 1 :\"))\n",
    "ips_2 = float(input(\"Nilai IPS semester 2 :\"))\n",
    "IPK = (ips_1+ips_2)/2.0 \n",
    "print(\"Jadi Nilai IPK ku adalah\", IPK)"
   ]
  },
  {
   "cell_type": "code",
   "execution_count": 40,
   "metadata": {},
   "outputs": [
    {
     "name": "stdout",
     "output_type": "stream",
     "text": [
      "Enter value for x: 21\n",
      "y = 0.0472972972972973\n"
     ]
    }
   ],
   "source": [
    "x =float(input(\"Enter value for x: \"))\n",
    "y =1 /(x+1/x+1/x+1/x)\n",
    "print(\"y =\", y)"
   ]
  },
  {
   "cell_type": "code",
   "execution_count": 43,
   "metadata": {},
   "outputs": [
    {
     "name": "stdout",
     "output_type": "stream",
     "text": [
      "Nama pertama :Cyndi\n",
      "Nama terakhir :Naitili\n",
      "Namaku adalah Cyndi Naitili\n"
     ]
    }
   ],
   "source": [
    "#Operasi STRING\n",
    "first =input(\"Nama pertama :\")\n",
    "last =input(\"Nama terakhir :\")\n",
    "print(\"Namaku adalah \" + first + \" \" + last)"
   ]
  },
  {
   "cell_type": "code",
   "execution_count": 45,
   "metadata": {},
   "outputs": [
    {
     "name": "stdout",
     "output_type": "stream",
     "text": [
      "heiheihei\n",
      "heiheihei\n",
      "2222222\n"
     ]
    }
   ],
   "source": [
    "print(\"hei\"*3)\n",
    "print(3*\"hei\")\n",
    "print(7*\"2\")"
   ]
  },
  {
   "cell_type": "code",
   "execution_count": 46,
   "metadata": {},
   "outputs": [
    {
     "name": "stdout",
     "output_type": "stream",
     "text": [
      "+----------+\n",
      "|          |\n",
      "|          |\n",
      "|          |\n",
      "|          |\n",
      "|          |\n",
      "+-----------\n"
     ]
    }
   ],
   "source": [
    "print(\"+\" + 10 * \"-\" + \"+\")\n",
    "print((\"|\" +\" \" * 10 + \"|\\n\") * 5, end=\"\")\n",
    "print(\"+\" + 10 * \"-\" + \"-\")"
   ]
  }
 ],
 "metadata": {
  "kernelspec": {
   "display_name": "Python 3",
   "language": "python",
   "name": "python3"
  },
  "language_info": {
   "codemirror_mode": {
    "name": "ipython",
    "version": 3
   },
   "file_extension": ".py",
   "mimetype": "text/x-python",
   "name": "python",
   "nbconvert_exporter": "python",
   "pygments_lexer": "ipython3",
   "version": "3.7.6"
  }
 },
 "nbformat": 4,
 "nbformat_minor": 4
}

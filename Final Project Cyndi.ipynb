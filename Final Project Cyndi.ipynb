{
 "cells": [
  {
   "cell_type": "code",
   "execution_count": 14,
   "metadata": {},
   "outputs": [],
   "source": [
    "import pandas as pd\n",
    "import numpy as np"
   ]
  },
  {
   "cell_type": "markdown",
   "metadata": {},
   "source": [
    "# Membaca Data"
   ]
  },
  {
   "cell_type": "code",
   "execution_count": 15,
   "metadata": {
    "scrolled": true
   },
   "outputs": [
    {
     "data": {
      "text/html": [
       "<div>\n",
       "<style scoped>\n",
       "    .dataframe tbody tr th:only-of-type {\n",
       "        vertical-align: middle;\n",
       "    }\n",
       "\n",
       "    .dataframe tbody tr th {\n",
       "        vertical-align: top;\n",
       "    }\n",
       "\n",
       "    .dataframe thead th {\n",
       "        text-align: right;\n",
       "    }\n",
       "</style>\n",
       "<table border=\"1\" class=\"dataframe\">\n",
       "  <thead>\n",
       "    <tr style=\"text-align: right;\">\n",
       "      <th></th>\n",
       "      <th>CustomerID</th>\n",
       "      <th>Churn</th>\n",
       "      <th>Tenure</th>\n",
       "      <th>PreferredLoginDevice</th>\n",
       "      <th>CityTier</th>\n",
       "      <th>WarehouseToHome</th>\n",
       "      <th>PreferredPaymentMode</th>\n",
       "      <th>Gender</th>\n",
       "      <th>HourSpendOnApp</th>\n",
       "      <th>DeviceRegistered</th>\n",
       "      <th>PreferedOrderCat</th>\n",
       "      <th>SatisfactionScore</th>\n",
       "      <th>MaritalStatus</th>\n",
       "      <th>NumberOfAddress</th>\n",
       "      <th>Complain</th>\n",
       "      <th>OrderIncreaseFromLastYear</th>\n",
       "      <th>CouponUsed</th>\n",
       "      <th>OrderCount</th>\n",
       "      <th>DaySinceLastOrder</th>\n",
       "      <th>CashbackAmount</th>\n",
       "    </tr>\n",
       "  </thead>\n",
       "  <tbody>\n",
       "    <tr>\n",
       "      <th>0</th>\n",
       "      <td>50027</td>\n",
       "      <td>0</td>\n",
       "      <td>8.0</td>\n",
       "      <td>Mobile Phone</td>\n",
       "      <td>3</td>\n",
       "      <td>6.0</td>\n",
       "      <td>E wallet</td>\n",
       "      <td>Male</td>\n",
       "      <td>3.0</td>\n",
       "      <td>3</td>\n",
       "      <td>Fashion</td>\n",
       "      <td>4</td>\n",
       "      <td>Divorced</td>\n",
       "      <td>2</td>\n",
       "      <td>0</td>\n",
       "      <td>13.0</td>\n",
       "      <td>1.0</td>\n",
       "      <td>1.0</td>\n",
       "      <td>6.0</td>\n",
       "      <td>172.95</td>\n",
       "    </tr>\n",
       "    <tr>\n",
       "      <th>1</th>\n",
       "      <td>50028</td>\n",
       "      <td>0</td>\n",
       "      <td>NaN</td>\n",
       "      <td>Phone</td>\n",
       "      <td>3</td>\n",
       "      <td>12.0</td>\n",
       "      <td>E wallet</td>\n",
       "      <td>Male</td>\n",
       "      <td>2.0</td>\n",
       "      <td>3</td>\n",
       "      <td>Laptop &amp; Accessory</td>\n",
       "      <td>3</td>\n",
       "      <td>Divorced</td>\n",
       "      <td>3</td>\n",
       "      <td>1</td>\n",
       "      <td>20.0</td>\n",
       "      <td>0.0</td>\n",
       "      <td>4.0</td>\n",
       "      <td>5.0</td>\n",
       "      <td>123.06</td>\n",
       "    </tr>\n",
       "    <tr>\n",
       "      <th>2</th>\n",
       "      <td>50029</td>\n",
       "      <td>0</td>\n",
       "      <td>18.0</td>\n",
       "      <td>Phone</td>\n",
       "      <td>1</td>\n",
       "      <td>NaN</td>\n",
       "      <td>Debit Card</td>\n",
       "      <td>Male</td>\n",
       "      <td>2.0</td>\n",
       "      <td>3</td>\n",
       "      <td>Laptop &amp; Accessory</td>\n",
       "      <td>4</td>\n",
       "      <td>Married</td>\n",
       "      <td>9</td>\n",
       "      <td>0</td>\n",
       "      <td>18.0</td>\n",
       "      <td>1.0</td>\n",
       "      <td>1.0</td>\n",
       "      <td>15.0</td>\n",
       "      <td>123.48</td>\n",
       "    </tr>\n",
       "    <tr>\n",
       "      <th>3</th>\n",
       "      <td>50030</td>\n",
       "      <td>0</td>\n",
       "      <td>5.0</td>\n",
       "      <td>Computer</td>\n",
       "      <td>3</td>\n",
       "      <td>14.0</td>\n",
       "      <td>E wallet</td>\n",
       "      <td>Female</td>\n",
       "      <td>2.0</td>\n",
       "      <td>3</td>\n",
       "      <td>Fashion</td>\n",
       "      <td>2</td>\n",
       "      <td>Single</td>\n",
       "      <td>2</td>\n",
       "      <td>0</td>\n",
       "      <td>14.0</td>\n",
       "      <td>2.0</td>\n",
       "      <td>3.0</td>\n",
       "      <td>7.0</td>\n",
       "      <td>189.98</td>\n",
       "    </tr>\n",
       "    <tr>\n",
       "      <th>4</th>\n",
       "      <td>50031</td>\n",
       "      <td>0</td>\n",
       "      <td>2.0</td>\n",
       "      <td>Computer</td>\n",
       "      <td>1</td>\n",
       "      <td>6.0</td>\n",
       "      <td>COD</td>\n",
       "      <td>Male</td>\n",
       "      <td>2.0</td>\n",
       "      <td>3</td>\n",
       "      <td>Laptop &amp; Accessory</td>\n",
       "      <td>3</td>\n",
       "      <td>Divorced</td>\n",
       "      <td>2</td>\n",
       "      <td>0</td>\n",
       "      <td>13.0</td>\n",
       "      <td>0.0</td>\n",
       "      <td>1.0</td>\n",
       "      <td>9.0</td>\n",
       "      <td>143.19</td>\n",
       "    </tr>\n",
       "    <tr>\n",
       "      <th>...</th>\n",
       "      <td>...</td>\n",
       "      <td>...</td>\n",
       "      <td>...</td>\n",
       "      <td>...</td>\n",
       "      <td>...</td>\n",
       "      <td>...</td>\n",
       "      <td>...</td>\n",
       "      <td>...</td>\n",
       "      <td>...</td>\n",
       "      <td>...</td>\n",
       "      <td>...</td>\n",
       "      <td>...</td>\n",
       "      <td>...</td>\n",
       "      <td>...</td>\n",
       "      <td>...</td>\n",
       "      <td>...</td>\n",
       "      <td>...</td>\n",
       "      <td>...</td>\n",
       "      <td>...</td>\n",
       "      <td>...</td>\n",
       "    </tr>\n",
       "    <tr>\n",
       "      <th>1891</th>\n",
       "      <td>55599</td>\n",
       "      <td>1</td>\n",
       "      <td>1.0</td>\n",
       "      <td>Computer</td>\n",
       "      <td>3</td>\n",
       "      <td>16.0</td>\n",
       "      <td>E wallet</td>\n",
       "      <td>Male</td>\n",
       "      <td>3.0</td>\n",
       "      <td>4</td>\n",
       "      <td>Mobile Phone</td>\n",
       "      <td>5</td>\n",
       "      <td>Married</td>\n",
       "      <td>3</td>\n",
       "      <td>0</td>\n",
       "      <td>20.0</td>\n",
       "      <td>2.0</td>\n",
       "      <td>2.0</td>\n",
       "      <td>1.0</td>\n",
       "      <td>142.90</td>\n",
       "    </tr>\n",
       "    <tr>\n",
       "      <th>1892</th>\n",
       "      <td>55603</td>\n",
       "      <td>1</td>\n",
       "      <td>1.0</td>\n",
       "      <td>Mobile Phone</td>\n",
       "      <td>1</td>\n",
       "      <td>8.0</td>\n",
       "      <td>Credit Card</td>\n",
       "      <td>Male</td>\n",
       "      <td>3.0</td>\n",
       "      <td>4</td>\n",
       "      <td>Mobile Phone</td>\n",
       "      <td>1</td>\n",
       "      <td>Married</td>\n",
       "      <td>11</td>\n",
       "      <td>1</td>\n",
       "      <td>15.0</td>\n",
       "      <td>3.0</td>\n",
       "      <td>3.0</td>\n",
       "      <td>3.0</td>\n",
       "      <td>172.87</td>\n",
       "    </tr>\n",
       "    <tr>\n",
       "      <th>1893</th>\n",
       "      <td>55605</td>\n",
       "      <td>1</td>\n",
       "      <td>20.0</td>\n",
       "      <td>Phone</td>\n",
       "      <td>1</td>\n",
       "      <td>14.0</td>\n",
       "      <td>COD</td>\n",
       "      <td>Male</td>\n",
       "      <td>4.0</td>\n",
       "      <td>4</td>\n",
       "      <td>Mobile Phone</td>\n",
       "      <td>3</td>\n",
       "      <td>Married</td>\n",
       "      <td>10</td>\n",
       "      <td>0</td>\n",
       "      <td>12.0</td>\n",
       "      <td>7.0</td>\n",
       "      <td>10.0</td>\n",
       "      <td>9.0</td>\n",
       "      <td>148.39</td>\n",
       "    </tr>\n",
       "    <tr>\n",
       "      <th>1894</th>\n",
       "      <td>55613</td>\n",
       "      <td>1</td>\n",
       "      <td>14.0</td>\n",
       "      <td>Computer</td>\n",
       "      <td>3</td>\n",
       "      <td>8.0</td>\n",
       "      <td>Debit Card</td>\n",
       "      <td>Male</td>\n",
       "      <td>4.0</td>\n",
       "      <td>4</td>\n",
       "      <td>Laptop &amp; Accessory</td>\n",
       "      <td>3</td>\n",
       "      <td>Married</td>\n",
       "      <td>9</td>\n",
       "      <td>0</td>\n",
       "      <td>13.0</td>\n",
       "      <td>2.0</td>\n",
       "      <td>2.0</td>\n",
       "      <td>2.0</td>\n",
       "      <td>192.28</td>\n",
       "    </tr>\n",
       "    <tr>\n",
       "      <th>1895</th>\n",
       "      <td>55622</td>\n",
       "      <td>1</td>\n",
       "      <td>14.0</td>\n",
       "      <td>Mobile Phone</td>\n",
       "      <td>3</td>\n",
       "      <td>35.0</td>\n",
       "      <td>E wallet</td>\n",
       "      <td>Male</td>\n",
       "      <td>3.0</td>\n",
       "      <td>5</td>\n",
       "      <td>Fashion</td>\n",
       "      <td>5</td>\n",
       "      <td>Married</td>\n",
       "      <td>6</td>\n",
       "      <td>1</td>\n",
       "      <td>14.0</td>\n",
       "      <td>3.0</td>\n",
       "      <td>NaN</td>\n",
       "      <td>1.0</td>\n",
       "      <td>233.54</td>\n",
       "    </tr>\n",
       "  </tbody>\n",
       "</table>\n",
       "<p>1896 rows × 20 columns</p>\n",
       "</div>"
      ],
      "text/plain": [
       "      CustomerID  Churn  Tenure PreferredLoginDevice  CityTier  \\\n",
       "0          50027      0     8.0         Mobile Phone         3   \n",
       "1          50028      0     NaN                Phone         3   \n",
       "2          50029      0    18.0                Phone         1   \n",
       "3          50030      0     5.0             Computer         3   \n",
       "4          50031      0     2.0             Computer         1   \n",
       "...          ...    ...     ...                  ...       ...   \n",
       "1891       55599      1     1.0             Computer         3   \n",
       "1892       55603      1     1.0         Mobile Phone         1   \n",
       "1893       55605      1    20.0                Phone         1   \n",
       "1894       55613      1    14.0             Computer         3   \n",
       "1895       55622      1    14.0         Mobile Phone         3   \n",
       "\n",
       "      WarehouseToHome PreferredPaymentMode  Gender  HourSpendOnApp  \\\n",
       "0                 6.0             E wallet    Male             3.0   \n",
       "1                12.0             E wallet    Male             2.0   \n",
       "2                 NaN           Debit Card    Male             2.0   \n",
       "3                14.0             E wallet  Female             2.0   \n",
       "4                 6.0                  COD    Male             2.0   \n",
       "...               ...                  ...     ...             ...   \n",
       "1891             16.0             E wallet    Male             3.0   \n",
       "1892              8.0          Credit Card    Male             3.0   \n",
       "1893             14.0                  COD    Male             4.0   \n",
       "1894              8.0           Debit Card    Male             4.0   \n",
       "1895             35.0             E wallet    Male             3.0   \n",
       "\n",
       "      DeviceRegistered    PreferedOrderCat  SatisfactionScore MaritalStatus  \\\n",
       "0                    3             Fashion                  4      Divorced   \n",
       "1                    3  Laptop & Accessory                  3      Divorced   \n",
       "2                    3  Laptop & Accessory                  4       Married   \n",
       "3                    3             Fashion                  2        Single   \n",
       "4                    3  Laptop & Accessory                  3      Divorced   \n",
       "...                ...                 ...                ...           ...   \n",
       "1891                 4        Mobile Phone                  5       Married   \n",
       "1892                 4        Mobile Phone                  1       Married   \n",
       "1893                 4        Mobile Phone                  3       Married   \n",
       "1894                 4  Laptop & Accessory                  3       Married   \n",
       "1895                 5             Fashion                  5       Married   \n",
       "\n",
       "      NumberOfAddress  Complain  OrderIncreaseFromLastYear  CouponUsed  \\\n",
       "0                   2         0                       13.0         1.0   \n",
       "1                   3         1                       20.0         0.0   \n",
       "2                   9         0                       18.0         1.0   \n",
       "3                   2         0                       14.0         2.0   \n",
       "4                   2         0                       13.0         0.0   \n",
       "...               ...       ...                        ...         ...   \n",
       "1891                3         0                       20.0         2.0   \n",
       "1892               11         1                       15.0         3.0   \n",
       "1893               10         0                       12.0         7.0   \n",
       "1894                9         0                       13.0         2.0   \n",
       "1895                6         1                       14.0         3.0   \n",
       "\n",
       "      OrderCount  DaySinceLastOrder  CashbackAmount  \n",
       "0            1.0                6.0          172.95  \n",
       "1            4.0                5.0          123.06  \n",
       "2            1.0               15.0          123.48  \n",
       "3            3.0                7.0          189.98  \n",
       "4            1.0                9.0          143.19  \n",
       "...          ...                ...             ...  \n",
       "1891         2.0                1.0          142.90  \n",
       "1892         3.0                3.0          172.87  \n",
       "1893        10.0                9.0          148.39  \n",
       "1894         2.0                2.0          192.28  \n",
       "1895         NaN                1.0          233.54  \n",
       "\n",
       "[1896 rows x 20 columns]"
      ]
     },
     "execution_count": 15,
     "metadata": {},
     "output_type": "execute_result"
    }
   ],
   "source": [
    "data_fix = pd.read_excel(\"E:/DSC/ecommerce_churn.xlsx\")\n",
    "data_fix"
   ]
  },
  {
   "cell_type": "markdown",
   "metadata": {},
   "source": [
    "# Statistik Deskriptif"
   ]
  },
  {
   "cell_type": "code",
   "execution_count": 23,
   "metadata": {
    "scrolled": true
   },
   "outputs": [
    {
     "name": "stdout",
     "output_type": "stream",
     "text": [
      "(1896, 20)\n"
     ]
    }
   ],
   "source": [
    "print(data_fix.shape)"
   ]
  },
  {
   "cell_type": "code",
   "execution_count": 16,
   "metadata": {},
   "outputs": [
    {
     "data": {
      "text/plain": [
       "CustomerID                     int64\n",
       "Churn                          int64\n",
       "Tenure                       float64\n",
       "PreferredLoginDevice          object\n",
       "CityTier                       int64\n",
       "WarehouseToHome              float64\n",
       "PreferredPaymentMode          object\n",
       "Gender                        object\n",
       "HourSpendOnApp               float64\n",
       "DeviceRegistered               int64\n",
       "PreferedOrderCat              object\n",
       "SatisfactionScore              int64\n",
       "MaritalStatus                 object\n",
       "NumberOfAddress                int64\n",
       "Complain                       int64\n",
       "OrderIncreaseFromLastYear    float64\n",
       "CouponUsed                   float64\n",
       "OrderCount                   float64\n",
       "DaySinceLastOrder            float64\n",
       "CashbackAmount               float64\n",
       "dtype: object"
      ]
     },
     "execution_count": 16,
     "metadata": {},
     "output_type": "execute_result"
    }
   ],
   "source": [
    "data_fix.dtypes"
   ]
  },
  {
   "cell_type": "code",
   "execution_count": 17,
   "metadata": {},
   "outputs": [
    {
     "data": {
      "text/plain": [
       "float64    8\n",
       "int64      7\n",
       "object     5\n",
       "dtype: int64"
      ]
     },
     "execution_count": 17,
     "metadata": {},
     "output_type": "execute_result"
    }
   ],
   "source": [
    "data_fix.dtypes.value_counts()"
   ]
  },
  {
   "cell_type": "code",
   "execution_count": 18,
   "metadata": {},
   "outputs": [
    {
     "name": "stdout",
     "output_type": "stream",
     "text": [
      "<class 'pandas.core.frame.DataFrame'>\n",
      "RangeIndex: 1896 entries, 0 to 1895\n",
      "Data columns (total 20 columns):\n",
      " #   Column                     Non-Null Count  Dtype  \n",
      "---  ------                     --------------  -----  \n",
      " 0   CustomerID                 1896 non-null   int64  \n",
      " 1   Churn                      1896 non-null   int64  \n",
      " 2   Tenure                     1739 non-null   float64\n",
      " 3   PreferredLoginDevice       1896 non-null   object \n",
      " 4   CityTier                   1896 non-null   int64  \n",
      " 5   WarehouseToHome            1744 non-null   float64\n",
      " 6   PreferredPaymentMode       1896 non-null   object \n",
      " 7   Gender                     1896 non-null   object \n",
      " 8   HourSpendOnApp             1766 non-null   float64\n",
      " 9   DeviceRegistered           1896 non-null   int64  \n",
      " 10  PreferedOrderCat           1896 non-null   object \n",
      " 11  SatisfactionScore          1896 non-null   int64  \n",
      " 12  MaritalStatus              1896 non-null   object \n",
      " 13  NumberOfAddress            1896 non-null   int64  \n",
      " 14  Complain                   1896 non-null   int64  \n",
      " 15  OrderIncreaseFromLastYear  1855 non-null   float64\n",
      " 16  CouponUsed                 1817 non-null   float64\n",
      " 17  OrderCount                 1837 non-null   float64\n",
      " 18  DaySinceLastOrder          1812 non-null   float64\n",
      " 19  CashbackAmount             1896 non-null   float64\n",
      "dtypes: float64(8), int64(7), object(5)\n",
      "memory usage: 296.4+ KB\n"
     ]
    }
   ],
   "source": [
    "data_fix.info()"
   ]
  },
  {
   "cell_type": "code",
   "execution_count": 19,
   "metadata": {
    "scrolled": true
   },
   "outputs": [
    {
     "data": {
      "text/plain": [
       "Index(['CustomerID', 'Churn', 'Tenure', 'PreferredLoginDevice', 'CityTier',\n",
       "       'WarehouseToHome', 'PreferredPaymentMode', 'Gender', 'HourSpendOnApp',\n",
       "       'DeviceRegistered', 'PreferedOrderCat', 'SatisfactionScore',\n",
       "       'MaritalStatus', 'NumberOfAddress', 'Complain',\n",
       "       'OrderIncreaseFromLastYear', 'CouponUsed', 'OrderCount',\n",
       "       'DaySinceLastOrder', 'CashbackAmount'],\n",
       "      dtype='object')"
      ]
     },
     "execution_count": 19,
     "metadata": {},
     "output_type": "execute_result"
    }
   ],
   "source": [
    "data_fix.keys()"
   ]
  },
  {
   "cell_type": "code",
   "execution_count": 20,
   "metadata": {
    "scrolled": true
   },
   "outputs": [
    {
     "name": "stdout",
     "output_type": "stream",
     "text": [
      "         CustomerID        Churn       Tenure     CityTier  WarehouseToHome  \\\n",
      "count   1896.000000  1896.000000  1739.000000  1896.000000      1744.000000   \n",
      "mean   51668.825949     0.500000     7.347901     1.719409        15.922018   \n",
      "std     1598.949360     0.500132     8.149302     0.936148         8.498368   \n",
      "min    50001.000000     0.000000     0.000000     1.000000         5.000000   \n",
      "25%    50474.750000     0.000000     1.000000     1.000000         9.000000   \n",
      "50%    50948.500000     0.500000     4.000000     1.000000        14.000000   \n",
      "75%    52809.250000     1.000000    13.000000     3.000000        22.000000   \n",
      "max    55622.000000     1.000000    50.000000     3.000000        36.000000   \n",
      "\n",
      "       HourSpendOnApp  DeviceRegistered  SatisfactionScore  NumberOfAddress  \\\n",
      "count     1766.000000       1896.000000        1896.000000      1896.000000   \n",
      "mean         2.682899          3.543776           3.275316         4.088080   \n",
      "std          0.679286          1.015023           1.269551         2.694888   \n",
      "min          0.000000          1.000000           1.000000         1.000000   \n",
      "25%          2.000000          3.000000           2.000000         2.000000   \n",
      "50%          3.000000          3.000000           3.000000         3.000000   \n",
      "75%          3.000000          4.000000           4.000000         6.000000   \n",
      "max          4.000000          6.000000           5.000000        21.000000   \n",
      "\n",
      "          Complain  OrderIncreaseFromLastYear   CouponUsed   OrderCount  \\\n",
      "count  1896.000000                1855.000000  1817.000000  1837.000000   \n",
      "mean      0.385549                  15.391914     1.470556     2.694066   \n",
      "std       0.486853                   3.695976     1.862077     2.866878   \n",
      "min       0.000000                  11.000000     0.000000     1.000000   \n",
      "25%       0.000000                  12.000000     0.000000     1.000000   \n",
      "50%       0.000000                  14.000000     1.000000     2.000000   \n",
      "75%       1.000000                  18.000000     2.000000     3.000000   \n",
      "max       1.000000                  26.000000    16.000000    16.000000   \n",
      "\n",
      "       DaySinceLastOrder  CashbackAmount  \n",
      "count        1812.000000     1896.000000  \n",
      "mean            3.786976      164.907252  \n",
      "std             3.540237       44.698011  \n",
      "min             0.000000        0.000000  \n",
      "25%             1.000000      132.940000  \n",
      "50%             3.000000      150.870000  \n",
      "75%             7.000000      181.610000  \n",
      "max            46.000000      323.590000  \n"
     ]
    }
   ],
   "source": [
    "print(data_fix.describe())"
   ]
  },
  {
   "cell_type": "code",
   "execution_count": 21,
   "metadata": {
    "scrolled": true
   },
   "outputs": [
    {
     "name": "stdout",
     "output_type": "stream",
     "text": [
      "          CustomerID        Churn       Tenure PreferredLoginDevice  \\\n",
      "count    1896.000000  1896.000000  1739.000000                 1896   \n",
      "unique           NaN          NaN          NaN                    3   \n",
      "top              NaN          NaN          NaN         Mobile Phone   \n",
      "freq             NaN          NaN          NaN                  728   \n",
      "mean    51668.825949     0.500000     7.347901                  NaN   \n",
      "std      1598.949360     0.500132     8.149302                  NaN   \n",
      "min     50001.000000     0.000000     0.000000                  NaN   \n",
      "25%     50474.750000     0.000000     1.000000                  NaN   \n",
      "50%     50948.500000     0.500000     4.000000                  NaN   \n",
      "75%     52809.250000     1.000000    13.000000                  NaN   \n",
      "max     55622.000000     1.000000    50.000000                  NaN   \n",
      "\n",
      "           CityTier  WarehouseToHome PreferredPaymentMode Gender  \\\n",
      "count   1896.000000      1744.000000                 1896   1896   \n",
      "unique          NaN              NaN                    7      2   \n",
      "top             NaN              NaN           Debit Card   Male   \n",
      "freq            NaN              NaN                  752   1163   \n",
      "mean       1.719409        15.922018                  NaN    NaN   \n",
      "std        0.936148         8.498368                  NaN    NaN   \n",
      "min        1.000000         5.000000                  NaN    NaN   \n",
      "25%        1.000000         9.000000                  NaN    NaN   \n",
      "50%        1.000000        14.000000                  NaN    NaN   \n",
      "75%        3.000000        22.000000                  NaN    NaN   \n",
      "max        3.000000        36.000000                  NaN    NaN   \n",
      "\n",
      "        HourSpendOnApp  DeviceRegistered    PreferedOrderCat  \\\n",
      "count      1766.000000       1896.000000                1896   \n",
      "unique             NaN               NaN                   6   \n",
      "top                NaN               NaN  Laptop & Accessory   \n",
      "freq               NaN               NaN                 572   \n",
      "mean          2.682899          3.543776                 NaN   \n",
      "std           0.679286          1.015023                 NaN   \n",
      "min           0.000000          1.000000                 NaN   \n",
      "25%           2.000000          3.000000                 NaN   \n",
      "50%           3.000000          3.000000                 NaN   \n",
      "75%           3.000000          4.000000                 NaN   \n",
      "max           4.000000          6.000000                 NaN   \n",
      "\n",
      "        SatisfactionScore MaritalStatus  NumberOfAddress     Complain  \\\n",
      "count         1896.000000          1896      1896.000000  1896.000000   \n",
      "unique                NaN             3              NaN          NaN   \n",
      "top                   NaN        Single              NaN          NaN   \n",
      "freq                  NaN           747              NaN          NaN   \n",
      "mean             3.275316           NaN         4.088080     0.385549   \n",
      "std              1.269551           NaN         2.694888     0.486853   \n",
      "min              1.000000           NaN         1.000000     0.000000   \n",
      "25%              2.000000           NaN         2.000000     0.000000   \n",
      "50%              3.000000           NaN         3.000000     0.000000   \n",
      "75%              4.000000           NaN         6.000000     1.000000   \n",
      "max              5.000000           NaN        21.000000     1.000000   \n",
      "\n",
      "        OrderIncreaseFromLastYear   CouponUsed   OrderCount  \\\n",
      "count                 1855.000000  1817.000000  1837.000000   \n",
      "unique                        NaN          NaN          NaN   \n",
      "top                           NaN          NaN          NaN   \n",
      "freq                          NaN          NaN          NaN   \n",
      "mean                    15.391914     1.470556     2.694066   \n",
      "std                      3.695976     1.862077     2.866878   \n",
      "min                     11.000000     0.000000     1.000000   \n",
      "25%                     12.000000     0.000000     1.000000   \n",
      "50%                     14.000000     1.000000     2.000000   \n",
      "75%                     18.000000     2.000000     3.000000   \n",
      "max                     26.000000    16.000000    16.000000   \n",
      "\n",
      "        DaySinceLastOrder  CashbackAmount  \n",
      "count         1812.000000     1896.000000  \n",
      "unique                NaN             NaN  \n",
      "top                   NaN             NaN  \n",
      "freq                  NaN             NaN  \n",
      "mean             3.786976      164.907252  \n",
      "std              3.540237       44.698011  \n",
      "min              0.000000        0.000000  \n",
      "25%              1.000000      132.940000  \n",
      "50%              3.000000      150.870000  \n",
      "75%              7.000000      181.610000  \n",
      "max             46.000000      323.590000  \n"
     ]
    }
   ],
   "source": [
    "print(data_fix.describe(include=\"all\"))"
   ]
  },
  {
   "cell_type": "code",
   "execution_count": 22,
   "metadata": {
    "scrolled": false
   },
   "outputs": [
    {
     "name": "stdout",
     "output_type": "stream",
     "text": [
      "       PreferredLoginDevice PreferredPaymentMode Gender    PreferedOrderCat  \\\n",
      "count                  1896                 1896   1896                1896   \n",
      "unique                    3                    7      2                   6   \n",
      "top            Mobile Phone           Debit Card   Male  Laptop & Accessory   \n",
      "freq                    728                  752   1163                 572   \n",
      "\n",
      "       MaritalStatus  \n",
      "count           1896  \n",
      "unique             3  \n",
      "top           Single  \n",
      "freq             747  \n"
     ]
    }
   ],
   "source": [
    "print(data_fix.describe(include=\"object\"))"
   ]
  },
  {
   "cell_type": "markdown",
   "metadata": {},
   "source": [
    "# Distribusi Data"
   ]
  },
  {
   "cell_type": "markdown",
   "metadata": {},
   "source": [
    "Histogram Stisfaction Score"
   ]
  },
  {
   "cell_type": "code",
   "execution_count": 36,
   "metadata": {},
   "outputs": [
    {
     "data": {
      "image/png": "[encoded data removed]",
      "text/plain": [
       "<Figure size 288x360 with 1 Axes>"
      ]
     },
     "metadata": {
      "needs_background": "light"
     },
     "output_type": "display_data"
    }
   ],
   "source": [
    "import matplotlib.pyplot as plt\n",
    "data_fix[[\"SatisfactionScore\"]].hist(figsize=(4,5), bins=10, xlabelsize=8, ylabelsize=8)\n",
    "plt.show()"
   ]
  },
  {
   "cell_type": "code",
   "execution_count": 37,
   "metadata": {
    "scrolled": true
   },
   "outputs": [
    {
     "data": {
      "image/png": "[encoded data removed]",
      "text/plain": [
       "<Figure size 288x360 with 1 Axes>"
      ]
     },
     "metadata": {
      "needs_background": "light"
     },
     "output_type": "display_data"
    }
   ],
   "source": [
    "import matplotlib.pyplot as plt\n",
    "data_fix[[\"OrderIncreaseFromLastYear\"]].hist(figsize=(4,5), bins=10, xlabelsize=8, ylabelsize=8)\n",
    "plt.show()"
   ]
  },
  {
   "cell_type": "code",
   "execution_count": 38,
   "metadata": {},
   "outputs": [
    {
     "data": {
      "text/plain": [
       "<function matplotlib.pyplot.show(*args, **kw)>"
      ]
     },
     "execution_count": 38,
     "metadata": {},
     "output_type": "execute_result"
    },
    {
     "data": {
      "image/png": "[encoded data removed]",
      "text/plain": [
       "<Figure size 288x360 with 1 Axes>"
      ]
     },
     "metadata": {
      "needs_background": "light"
     },
     "output_type": "display_data"
    }
   ],
   "source": [
    "import matplotlib.pyplot as plt\n",
    "data_fix[[\"CashbackAmount\"]].hist(figsize=(4,5), bins=10, xlabelsize=8, ylabelsize=8)\n",
    "plt.show"
   ]
  },
  {
   "cell_type": "code",
   "execution_count": 41,
   "metadata": {
    "scrolled": true
   },
   "outputs": [
    {
     "data": {
      "image/png": "[encoded data removed]",
      "text/plain": [
       "<Figure size 288x360 with 1 Axes>"
      ]
     },
     "metadata": {
      "needs_background": "light"
     },
     "output_type": "display_data"
    }
   ],
   "source": [
    "import matplotlib.pyplot as plt\n",
    "data_fix[[\"WarehouseToHome\"]].hist(figsize=(4,5), bins=10, xlabelsize=8, ylabelsize=8)\n",
    "plt.show()"
   ]
  },
  {
   "cell_type": "code",
   "execution_count": 24,
   "metadata": {
    "scrolled": true
   },
   "outputs": [
    {
     "name": "stdout",
     "output_type": "stream",
     "text": [
      "Gender\n",
      "Female     733\n",
      "Male      1163\n",
      "dtype: int64\n"
     ]
    }
   ],
   "source": [
    "print(data_fix.groupby('Gender').size())"
   ]
  },
  {
   "cell_type": "markdown",
   "metadata": {},
   "source": [
    "Terlihat bahwa data terbagi menjadi 2 kelas berdasarkan gender dimana nilai dari Male > Female"
   ]
  },
  {
   "cell_type": "code",
   "execution_count": 25,
   "metadata": {},
   "outputs": [
    {
     "name": "stdout",
     "output_type": "stream",
     "text": [
      "PreferredLoginDevice\n",
      "Computer        584\n",
      "Mobile Phone    728\n",
      "Phone           584\n",
      "dtype: int64\n"
     ]
    }
   ],
   "source": [
    "print(data_fix.groupby('PreferredLoginDevice').size())"
   ]
  },
  {
   "cell_type": "markdown",
   "metadata": {},
   "source": [
    "Terlihat bahwa data terbagi menjadi 3 kelas berdasarkan Preferred Login Device dengan nilai dari Computer = Phone dan < dari Mobile Phone"
   ]
  },
  {
   "cell_type": "code",
   "execution_count": 28,
   "metadata": {},
   "outputs": [
    {
     "name": "stdout",
     "output_type": "stream",
     "text": [
      "PreferredPaymentMode\n",
      "CC                  144\n",
      "COD                 161\n",
      "Cash on Delivery     51\n",
      "Credit Card         416\n",
      "Debit Card          752\n",
      "E wallet            235\n",
      "UPI                 137\n",
      "dtype: int64\n"
     ]
    }
   ],
   "source": [
    "print(data_fix.groupby('PreferredPaymentMode').size())"
   ]
  },
  {
   "cell_type": "markdown",
   "metadata": {},
   "source": [
    "Terlihat bahwa data terbagi menjadi 7 kelas berdasarkan Preferred Payment Mode "
   ]
  },
  {
   "cell_type": "code",
   "execution_count": 42,
   "metadata": {},
   "outputs": [],
   "source": [
    "import matplotlib.pyplot as plt\n",
    "%matplotlib inline\n",
    "\n",
    "plt.style.use(\"seaborn\")\n",
    "import seaborn as sns"
   ]
  },
  {
   "cell_type": "code",
   "execution_count": 43,
   "metadata": {},
   "outputs": [
    {
     "data": {
      "text/plain": [
       "<matplotlib.axes._subplots.AxesSubplot at 0x2469b294888>"
      ]
     },
     "execution_count": 43,
     "metadata": {},
     "output_type": "execute_result"
    },
    {
     "data": {
      "image/png": "[encoded data removed]",
      "text/plain": [
       "<Figure size 576x396 with 2 Axes>"
      ]
     },
     "metadata": {},
     "output_type": "display_data"
    }
   ],
   "source": [
    "corr=data_fix.corr()\n",
    "sns.heatmap(corr)"
   ]
  },
  {
   "cell_type": "code",
   "execution_count": 44,
   "metadata": {},
   "outputs": [
    {
     "data": {
      "text/plain": [
       "CustomerID                     0\n",
       "Churn                          0\n",
       "Tenure                       157\n",
       "PreferredLoginDevice           0\n",
       "CityTier                       0\n",
       "WarehouseToHome              152\n",
       "PreferredPaymentMode           0\n",
       "Gender                         0\n",
       "HourSpendOnApp               130\n",
       "DeviceRegistered               0\n",
       "PreferedOrderCat               0\n",
       "SatisfactionScore              0\n",
       "MaritalStatus                  0\n",
       "NumberOfAddress                0\n",
       "Complain                       0\n",
       "OrderIncreaseFromLastYear     41\n",
       "CouponUsed                    79\n",
       "OrderCount                    59\n",
       "DaySinceLastOrder             84\n",
       "CashbackAmount                 0\n",
       "dtype: int64"
      ]
     },
     "execution_count": 44,
     "metadata": {},
     "output_type": "execute_result"
    }
   ],
   "source": [
    "#the below code counts the number of missing values in each column\n",
    "data_fix.isna().sum()"
   ]
  },
  {
   "cell_type": "code",
   "execution_count": 48,
   "metadata": {},
   "outputs": [
    {
     "data": {
      "text/html": [
       "<div>\n",
       "<style scoped>\n",
       "    .dataframe tbody tr th:only-of-type {\n",
       "        vertical-align: middle;\n",
       "    }\n",
       "\n",
       "    .dataframe tbody tr th {\n",
       "        vertical-align: top;\n",
       "    }\n",
       "\n",
       "    .dataframe thead th {\n",
       "        text-align: right;\n",
       "    }\n",
       "</style>\n",
       "<table border=\"1\" class=\"dataframe\">\n",
       "  <thead>\n",
       "    <tr style=\"text-align: right;\">\n",
       "      <th></th>\n",
       "      <th>CustomerID</th>\n",
       "      <th>Churn</th>\n",
       "      <th>Tenure</th>\n",
       "      <th>PreferredLoginDevice</th>\n",
       "      <th>CityTier</th>\n",
       "      <th>WarehouseToHome</th>\n",
       "      <th>PreferredPaymentMode</th>\n",
       "      <th>Gender</th>\n",
       "      <th>HourSpendOnApp</th>\n",
       "      <th>DeviceRegistered</th>\n",
       "      <th>PreferedOrderCat</th>\n",
       "      <th>SatisfactionScore</th>\n",
       "      <th>MaritalStatus</th>\n",
       "      <th>NumberOfAddress</th>\n",
       "      <th>Complain</th>\n",
       "      <th>OrderIncreaseFromLastYear</th>\n",
       "      <th>CouponUsed</th>\n",
       "      <th>OrderCount</th>\n",
       "      <th>DaySinceLastOrder</th>\n",
       "      <th>CashbackAmount</th>\n",
       "    </tr>\n",
       "  </thead>\n",
       "  <tbody>\n",
       "    <tr>\n",
       "      <th>0</th>\n",
       "      <td>50027</td>\n",
       "      <td>0</td>\n",
       "      <td>8.0</td>\n",
       "      <td>Mobile Phone</td>\n",
       "      <td>3</td>\n",
       "      <td>6.0</td>\n",
       "      <td>E wallet</td>\n",
       "      <td>Male</td>\n",
       "      <td>3.0</td>\n",
       "      <td>3</td>\n",
       "      <td>Fashion</td>\n",
       "      <td>4</td>\n",
       "      <td>Divorced</td>\n",
       "      <td>2</td>\n",
       "      <td>0</td>\n",
       "      <td>13.0</td>\n",
       "      <td>1.0</td>\n",
       "      <td>1.0</td>\n",
       "      <td>6.0</td>\n",
       "      <td>172.95</td>\n",
       "    </tr>\n",
       "    <tr>\n",
       "      <th>3</th>\n",
       "      <td>50030</td>\n",
       "      <td>0</td>\n",
       "      <td>5.0</td>\n",
       "      <td>Computer</td>\n",
       "      <td>3</td>\n",
       "      <td>14.0</td>\n",
       "      <td>E wallet</td>\n",
       "      <td>Female</td>\n",
       "      <td>2.0</td>\n",
       "      <td>3</td>\n",
       "      <td>Fashion</td>\n",
       "      <td>2</td>\n",
       "      <td>Single</td>\n",
       "      <td>2</td>\n",
       "      <td>0</td>\n",
       "      <td>14.0</td>\n",
       "      <td>2.0</td>\n",
       "      <td>3.0</td>\n",
       "      <td>7.0</td>\n",
       "      <td>189.98</td>\n",
       "    </tr>\n",
       "    <tr>\n",
       "      <th>4</th>\n",
       "      <td>50031</td>\n",
       "      <td>0</td>\n",
       "      <td>2.0</td>\n",
       "      <td>Computer</td>\n",
       "      <td>1</td>\n",
       "      <td>6.0</td>\n",
       "      <td>COD</td>\n",
       "      <td>Male</td>\n",
       "      <td>2.0</td>\n",
       "      <td>3</td>\n",
       "      <td>Laptop &amp; Accessory</td>\n",
       "      <td>3</td>\n",
       "      <td>Divorced</td>\n",
       "      <td>2</td>\n",
       "      <td>0</td>\n",
       "      <td>13.0</td>\n",
       "      <td>0.0</td>\n",
       "      <td>1.0</td>\n",
       "      <td>9.0</td>\n",
       "      <td>143.19</td>\n",
       "    </tr>\n",
       "    <tr>\n",
       "      <th>5</th>\n",
       "      <td>50032</td>\n",
       "      <td>0</td>\n",
       "      <td>0.0</td>\n",
       "      <td>Mobile Phone</td>\n",
       "      <td>1</td>\n",
       "      <td>13.0</td>\n",
       "      <td>Credit Card</td>\n",
       "      <td>Male</td>\n",
       "      <td>2.0</td>\n",
       "      <td>4</td>\n",
       "      <td>Laptop &amp; Accessory</td>\n",
       "      <td>3</td>\n",
       "      <td>Divorced</td>\n",
       "      <td>3</td>\n",
       "      <td>0</td>\n",
       "      <td>17.0</td>\n",
       "      <td>1.0</td>\n",
       "      <td>1.0</td>\n",
       "      <td>0.0</td>\n",
       "      <td>161.32</td>\n",
       "    </tr>\n",
       "    <tr>\n",
       "      <th>6</th>\n",
       "      <td>50033</td>\n",
       "      <td>0</td>\n",
       "      <td>30.0</td>\n",
       "      <td>Phone</td>\n",
       "      <td>1</td>\n",
       "      <td>15.0</td>\n",
       "      <td>CC</td>\n",
       "      <td>Female</td>\n",
       "      <td>3.0</td>\n",
       "      <td>4</td>\n",
       "      <td>Mobile</td>\n",
       "      <td>4</td>\n",
       "      <td>Divorced</td>\n",
       "      <td>5</td>\n",
       "      <td>1</td>\n",
       "      <td>20.0</td>\n",
       "      <td>1.0</td>\n",
       "      <td>1.0</td>\n",
       "      <td>0.0</td>\n",
       "      <td>133.46</td>\n",
       "    </tr>\n",
       "    <tr>\n",
       "      <th>...</th>\n",
       "      <td>...</td>\n",
       "      <td>...</td>\n",
       "      <td>...</td>\n",
       "      <td>...</td>\n",
       "      <td>...</td>\n",
       "      <td>...</td>\n",
       "      <td>...</td>\n",
       "      <td>...</td>\n",
       "      <td>...</td>\n",
       "      <td>...</td>\n",
       "      <td>...</td>\n",
       "      <td>...</td>\n",
       "      <td>...</td>\n",
       "      <td>...</td>\n",
       "      <td>...</td>\n",
       "      <td>...</td>\n",
       "      <td>...</td>\n",
       "      <td>...</td>\n",
       "      <td>...</td>\n",
       "      <td>...</td>\n",
       "    </tr>\n",
       "    <tr>\n",
       "      <th>1889</th>\n",
       "      <td>55556</td>\n",
       "      <td>1</td>\n",
       "      <td>1.0</td>\n",
       "      <td>Computer</td>\n",
       "      <td>3</td>\n",
       "      <td>33.0</td>\n",
       "      <td>E wallet</td>\n",
       "      <td>Male</td>\n",
       "      <td>4.0</td>\n",
       "      <td>4</td>\n",
       "      <td>Laptop &amp; Accessory</td>\n",
       "      <td>1</td>\n",
       "      <td>Married</td>\n",
       "      <td>3</td>\n",
       "      <td>1</td>\n",
       "      <td>12.0</td>\n",
       "      <td>1.0</td>\n",
       "      <td>2.0</td>\n",
       "      <td>9.0</td>\n",
       "      <td>181.17</td>\n",
       "    </tr>\n",
       "    <tr>\n",
       "      <th>1891</th>\n",
       "      <td>55599</td>\n",
       "      <td>1</td>\n",
       "      <td>1.0</td>\n",
       "      <td>Computer</td>\n",
       "      <td>3</td>\n",
       "      <td>16.0</td>\n",
       "      <td>E wallet</td>\n",
       "      <td>Male</td>\n",
       "      <td>3.0</td>\n",
       "      <td>4</td>\n",
       "      <td>Mobile Phone</td>\n",
       "      <td>5</td>\n",
       "      <td>Married</td>\n",
       "      <td>3</td>\n",
       "      <td>0</td>\n",
       "      <td>20.0</td>\n",
       "      <td>2.0</td>\n",
       "      <td>2.0</td>\n",
       "      <td>1.0</td>\n",
       "      <td>142.90</td>\n",
       "    </tr>\n",
       "    <tr>\n",
       "      <th>1892</th>\n",
       "      <td>55603</td>\n",
       "      <td>1</td>\n",
       "      <td>1.0</td>\n",
       "      <td>Mobile Phone</td>\n",
       "      <td>1</td>\n",
       "      <td>8.0</td>\n",
       "      <td>Credit Card</td>\n",
       "      <td>Male</td>\n",
       "      <td>3.0</td>\n",
       "      <td>4</td>\n",
       "      <td>Mobile Phone</td>\n",
       "      <td>1</td>\n",
       "      <td>Married</td>\n",
       "      <td>11</td>\n",
       "      <td>1</td>\n",
       "      <td>15.0</td>\n",
       "      <td>3.0</td>\n",
       "      <td>3.0</td>\n",
       "      <td>3.0</td>\n",
       "      <td>172.87</td>\n",
       "    </tr>\n",
       "    <tr>\n",
       "      <th>1893</th>\n",
       "      <td>55605</td>\n",
       "      <td>1</td>\n",
       "      <td>20.0</td>\n",
       "      <td>Phone</td>\n",
       "      <td>1</td>\n",
       "      <td>14.0</td>\n",
       "      <td>COD</td>\n",
       "      <td>Male</td>\n",
       "      <td>4.0</td>\n",
       "      <td>4</td>\n",
       "      <td>Mobile Phone</td>\n",
       "      <td>3</td>\n",
       "      <td>Married</td>\n",
       "      <td>10</td>\n",
       "      <td>0</td>\n",
       "      <td>12.0</td>\n",
       "      <td>7.0</td>\n",
       "      <td>10.0</td>\n",
       "      <td>9.0</td>\n",
       "      <td>148.39</td>\n",
       "    </tr>\n",
       "    <tr>\n",
       "      <th>1894</th>\n",
       "      <td>55613</td>\n",
       "      <td>1</td>\n",
       "      <td>14.0</td>\n",
       "      <td>Computer</td>\n",
       "      <td>3</td>\n",
       "      <td>8.0</td>\n",
       "      <td>Debit Card</td>\n",
       "      <td>Male</td>\n",
       "      <td>4.0</td>\n",
       "      <td>4</td>\n",
       "      <td>Laptop &amp; Accessory</td>\n",
       "      <td>3</td>\n",
       "      <td>Married</td>\n",
       "      <td>9</td>\n",
       "      <td>0</td>\n",
       "      <td>13.0</td>\n",
       "      <td>2.0</td>\n",
       "      <td>2.0</td>\n",
       "      <td>2.0</td>\n",
       "      <td>192.28</td>\n",
       "    </tr>\n",
       "  </tbody>\n",
       "</table>\n",
       "<p>1194 rows × 20 columns</p>\n",
       "</div>"
      ],
      "text/plain": [
       "      CustomerID  Churn  Tenure PreferredLoginDevice  CityTier  \\\n",
       "0          50027      0     8.0         Mobile Phone         3   \n",
       "3          50030      0     5.0             Computer         3   \n",
       "4          50031      0     2.0             Computer         1   \n",
       "5          50032      0     0.0         Mobile Phone         1   \n",
       "6          50033      0    30.0                Phone         1   \n",
       "...          ...    ...     ...                  ...       ...   \n",
       "1889       55556      1     1.0             Computer         3   \n",
       "1891       55599      1     1.0             Computer         3   \n",
       "1892       55603      1     1.0         Mobile Phone         1   \n",
       "1893       55605      1    20.0                Phone         1   \n",
       "1894       55613      1    14.0             Computer         3   \n",
       "\n",
       "      WarehouseToHome PreferredPaymentMode  Gender  HourSpendOnApp  \\\n",
       "0                 6.0             E wallet    Male             3.0   \n",
       "3                14.0             E wallet  Female             2.0   \n",
       "4                 6.0                  COD    Male             2.0   \n",
       "5                13.0          Credit Card    Male             2.0   \n",
       "6                15.0                   CC  Female             3.0   \n",
       "...               ...                  ...     ...             ...   \n",
       "1889             33.0             E wallet    Male             4.0   \n",
       "1891             16.0             E wallet    Male             3.0   \n",
       "1892              8.0          Credit Card    Male             3.0   \n",
       "1893             14.0                  COD    Male             4.0   \n",
       "1894              8.0           Debit Card    Male             4.0   \n",
       "\n",
       "      DeviceRegistered    PreferedOrderCat  SatisfactionScore MaritalStatus  \\\n",
       "0                    3             Fashion                  4      Divorced   \n",
       "3                    3             Fashion                  2        Single   \n",
       "4                    3  Laptop & Accessory                  3      Divorced   \n",
       "5                    4  Laptop & Accessory                  3      Divorced   \n",
       "6                    4              Mobile                  4      Divorced   \n",
       "...                ...                 ...                ...           ...   \n",
       "1889                 4  Laptop & Accessory                  1       Married   \n",
       "1891                 4        Mobile Phone                  5       Married   \n",
       "1892                 4        Mobile Phone                  1       Married   \n",
       "1893                 4        Mobile Phone                  3       Married   \n",
       "1894                 4  Laptop & Accessory                  3       Married   \n",
       "\n",
       "      NumberOfAddress  Complain  OrderIncreaseFromLastYear  CouponUsed  \\\n",
       "0                   2         0                       13.0         1.0   \n",
       "3                   2         0                       14.0         2.0   \n",
       "4                   2         0                       13.0         0.0   \n",
       "5                   3         0                       17.0         1.0   \n",
       "6                   5         1                       20.0         1.0   \n",
       "...               ...       ...                        ...         ...   \n",
       "1889                3         1                       12.0         1.0   \n",
       "1891                3         0                       20.0         2.0   \n",
       "1892               11         1                       15.0         3.0   \n",
       "1893               10         0                       12.0         7.0   \n",
       "1894                9         0                       13.0         2.0   \n",
       "\n",
       "      OrderCount  DaySinceLastOrder  CashbackAmount  \n",
       "0            1.0                6.0          172.95  \n",
       "3            3.0                7.0          189.98  \n",
       "4            1.0                9.0          143.19  \n",
       "5            1.0                0.0          161.32  \n",
       "6            1.0                0.0          133.46  \n",
       "...          ...                ...             ...  \n",
       "1889         2.0                9.0          181.17  \n",
       "1891         2.0                1.0          142.90  \n",
       "1892         3.0                3.0          172.87  \n",
       "1893        10.0                9.0          148.39  \n",
       "1894         2.0                2.0          192.28  \n",
       "\n",
       "[1194 rows x 20 columns]"
      ]
     },
     "execution_count": 48,
     "metadata": {},
     "output_type": "execute_result"
    }
   ],
   "source": [
    "nonmissingdata= data_fix.dropna()\n",
    "nonmissingdata"
   ]
  },
  {
   "cell_type": "markdown",
   "metadata": {},
   "source": [
    "Baris yang tidak memiliki missing values"
   ]
  },
  {
   "cell_type": "code",
   "execution_count": 52,
   "metadata": {},
   "outputs": [],
   "source": [
    "data_fix['Tenure']=data_fix['Tenure'].fillna((data_fix['Tenure'].mean()))\n",
    "data_fix['WarehouseToHome']=data_fix['WarehouseToHome'].fillna((data_fix['WarehouseToHome'].mean()))\n",
    "data_fix['HourSpendOnApp']=data_fix['HourSpendOnApp'].fillna((data_fix['HourSpendOnApp'].mean()))\n",
    "data_fix['OrderIncreaseFromLastYear']=data_fix['OrderIncreaseFromLastYear'].fillna((data_fix['OrderIncreaseFromLastYear'].mean()))\n",
    "data_fix['CouponUsed']=data_fix['CouponUsed'].fillna((data_fix['CouponUsed'].mean()))\n",
    "data_fix['OrderCount']=data_fix['OrderCount'].fillna((data_fix['OrderCount'].mean()))\n",
    "data_fix['DaySinceLastOrder']=data_fix['DaySinceLastOrder'].fillna((data_fix['DaySinceLastOrder'].mean()))"
   ]
  },
  {
   "cell_type": "markdown",
   "metadata": {},
   "source": [
    "Replacing Missing Values with mean"
   ]
  },
  {
   "cell_type": "code",
   "execution_count": 53,
   "metadata": {},
   "outputs": [
    {
     "data": {
      "text/plain": [
       "CustomerID                   0\n",
       "Churn                        0\n",
       "Tenure                       0\n",
       "PreferredLoginDevice         0\n",
       "CityTier                     0\n",
       "WarehouseToHome              0\n",
       "PreferredPaymentMode         0\n",
       "Gender                       0\n",
       "HourSpendOnApp               0\n",
       "DeviceRegistered             0\n",
       "PreferedOrderCat             0\n",
       "SatisfactionScore            0\n",
       "MaritalStatus                0\n",
       "NumberOfAddress              0\n",
       "Complain                     0\n",
       "OrderIncreaseFromLastYear    0\n",
       "CouponUsed                   0\n",
       "OrderCount                   0\n",
       "DaySinceLastOrder            0\n",
       "CashbackAmount               0\n",
       "dtype: int64"
      ]
     },
     "execution_count": 53,
     "metadata": {},
     "output_type": "execute_result"
    }
   ],
   "source": [
    "data_fix.isna().sum()"
   ]
  },
  {
   "cell_type": "markdown",
   "metadata": {},
   "source": [
    "Sudah tidak ada missing values"
   ]
  },
  {
   "cell_type": "code",
   "execution_count": 54,
   "metadata": {},
   "outputs": [
    {
     "name": "stdout",
     "output_type": "stream",
     "text": [
      "<class 'pandas.core.frame.DataFrame'>\n",
      "RangeIndex: 1896 entries, 0 to 1895\n",
      "Data columns (total 20 columns):\n",
      " #   Column                     Non-Null Count  Dtype  \n",
      "---  ------                     --------------  -----  \n",
      " 0   CustomerID                 1896 non-null   int64  \n",
      " 1   Churn                      1896 non-null   int64  \n",
      " 2   Tenure                     1896 non-null   float64\n",
      " 3   PreferredLoginDevice       1896 non-null   object \n",
      " 4   CityTier                   1896 non-null   int64  \n",
      " 5   WarehouseToHome            1896 non-null   float64\n",
      " 6   PreferredPaymentMode       1896 non-null   object \n",
      " 7   Gender                     1896 non-null   object \n",
      " 8   HourSpendOnApp             1896 non-null   float64\n",
      " 9   DeviceRegistered           1896 non-null   int64  \n",
      " 10  PreferedOrderCat           1896 non-null   object \n",
      " 11  SatisfactionScore          1896 non-null   int64  \n",
      " 12  MaritalStatus              1896 non-null   object \n",
      " 13  NumberOfAddress            1896 non-null   int64  \n",
      " 14  Complain                   1896 non-null   int64  \n",
      " 15  OrderIncreaseFromLastYear  1896 non-null   float64\n",
      " 16  CouponUsed                 1896 non-null   float64\n",
      " 17  OrderCount                 1896 non-null   float64\n",
      " 18  DaySinceLastOrder          1896 non-null   float64\n",
      " 19  CashbackAmount             1896 non-null   float64\n",
      "dtypes: float64(8), int64(7), object(5)\n",
      "memory usage: 296.4+ KB\n"
     ]
    }
   ],
   "source": [
    "data_fix.info()"
   ]
  },
  {
   "cell_type": "code",
   "execution_count": 55,
   "metadata": {},
   "outputs": [
    {
     "name": "stdout",
     "output_type": "stream",
     "text": [
      "[[1.02708637e+00 1.00000000e+00 8.35771126e-02 ... 6.00487593e-01\n",
      "  6.39607762e-01 1.79982722e-01]\n",
      " [1.02646079e+00 1.00000000e+00 1.13834553e-16 ... 4.62908013e-01\n",
      "  3.50587995e-01 9.36468786e-01]\n",
      " [1.02583522e+00 1.00000000e+00 1.36524024e+00 ... 6.00487593e-01\n",
      "  3.24078566e+00 9.27069915e-01]\n",
      " ...\n",
      " [2.46237472e+00 1.00000000e+00 1.62157287e+00 ... 2.58969922e+00\n",
      "  1.50666706e+00 3.69627401e-01]\n",
      " [2.46737933e+00 1.00000000e+00 8.52574990e-01 ... 2.46022391e-01\n",
      "  5.16471305e-01 6.12554533e-01]\n",
      " [2.47300951e+00 1.00000000e+00 8.52574990e-01 ... 0.00000000e+00\n",
      "  8.05491071e-01 1.53588164e+00]]\n"
     ]
    }
   ],
   "source": [
    "from scipy import stats\n",
    "z=np.abs(stats.zscore(data_fix._get_numeric_data()))\n",
    "print(z)"
   ]
  },
  {
   "cell_type": "code",
   "execution_count": 56,
   "metadata": {},
   "outputs": [
    {
     "name": "stdout",
     "output_type": "stream",
     "text": [
      "(1783, 20)\n"
     ]
    }
   ],
   "source": [
    "outlier=data_fix[(z<3).all(axis=1)]\n",
    "print(outlier.shape)"
   ]
  },
  {
   "cell_type": "code",
   "execution_count": 57,
   "metadata": {},
   "outputs": [],
   "source": [
    "import seaborn as sns\n",
    "sns.set(style=\"whitegrid\")"
   ]
  },
  {
   "cell_type": "code",
   "execution_count": 58,
   "metadata": {},
   "outputs": [
    {
     "data": {
      "text/html": [
       "<div>\n",
       "<style scoped>\n",
       "    .dataframe tbody tr th:only-of-type {\n",
       "        vertical-align: middle;\n",
       "    }\n",
       "\n",
       "    .dataframe tbody tr th {\n",
       "        vertical-align: top;\n",
       "    }\n",
       "\n",
       "    .dataframe thead th {\n",
       "        text-align: right;\n",
       "    }\n",
       "</style>\n",
       "<table border=\"1\" class=\"dataframe\">\n",
       "  <thead>\n",
       "    <tr style=\"text-align: right;\">\n",
       "      <th></th>\n",
       "      <th>CustomerID</th>\n",
       "      <th>Churn</th>\n",
       "      <th>Tenure</th>\n",
       "      <th>PreferredLoginDevice</th>\n",
       "      <th>CityTier</th>\n",
       "      <th>WarehouseToHome</th>\n",
       "      <th>PreferredPaymentMode</th>\n",
       "      <th>Gender</th>\n",
       "      <th>HourSpendOnApp</th>\n",
       "      <th>DeviceRegistered</th>\n",
       "      <th>PreferedOrderCat</th>\n",
       "      <th>SatisfactionScore</th>\n",
       "      <th>MaritalStatus</th>\n",
       "      <th>NumberOfAddress</th>\n",
       "      <th>Complain</th>\n",
       "      <th>OrderIncreaseFromLastYear</th>\n",
       "      <th>CouponUsed</th>\n",
       "      <th>OrderCount</th>\n",
       "      <th>DaySinceLastOrder</th>\n",
       "      <th>CashbackAmount</th>\n",
       "    </tr>\n",
       "  </thead>\n",
       "  <tbody>\n",
       "    <tr>\n",
       "      <th>0</th>\n",
       "      <td>50027</td>\n",
       "      <td>0</td>\n",
       "      <td>8.000000</td>\n",
       "      <td>Mobile Phone</td>\n",
       "      <td>3</td>\n",
       "      <td>6.000000</td>\n",
       "      <td>E wallet</td>\n",
       "      <td>Male</td>\n",
       "      <td>3.0</td>\n",
       "      <td>3</td>\n",
       "      <td>Fashion</td>\n",
       "      <td>4</td>\n",
       "      <td>Divorced</td>\n",
       "      <td>2</td>\n",
       "      <td>0</td>\n",
       "      <td>13.0</td>\n",
       "      <td>1.0</td>\n",
       "      <td>1.0</td>\n",
       "      <td>6.0</td>\n",
       "      <td>172.95</td>\n",
       "    </tr>\n",
       "    <tr>\n",
       "      <th>1</th>\n",
       "      <td>50028</td>\n",
       "      <td>0</td>\n",
       "      <td>7.347901</td>\n",
       "      <td>Phone</td>\n",
       "      <td>3</td>\n",
       "      <td>12.000000</td>\n",
       "      <td>E wallet</td>\n",
       "      <td>Male</td>\n",
       "      <td>2.0</td>\n",
       "      <td>3</td>\n",
       "      <td>Laptop &amp; Accessory</td>\n",
       "      <td>3</td>\n",
       "      <td>Divorced</td>\n",
       "      <td>3</td>\n",
       "      <td>1</td>\n",
       "      <td>20.0</td>\n",
       "      <td>0.0</td>\n",
       "      <td>4.0</td>\n",
       "      <td>5.0</td>\n",
       "      <td>123.06</td>\n",
       "    </tr>\n",
       "    <tr>\n",
       "      <th>2</th>\n",
       "      <td>50029</td>\n",
       "      <td>0</td>\n",
       "      <td>18.000000</td>\n",
       "      <td>Phone</td>\n",
       "      <td>1</td>\n",
       "      <td>15.922018</td>\n",
       "      <td>Debit Card</td>\n",
       "      <td>Male</td>\n",
       "      <td>2.0</td>\n",
       "      <td>3</td>\n",
       "      <td>Laptop &amp; Accessory</td>\n",
       "      <td>4</td>\n",
       "      <td>Married</td>\n",
       "      <td>9</td>\n",
       "      <td>0</td>\n",
       "      <td>18.0</td>\n",
       "      <td>1.0</td>\n",
       "      <td>1.0</td>\n",
       "      <td>15.0</td>\n",
       "      <td>123.48</td>\n",
       "    </tr>\n",
       "    <tr>\n",
       "      <th>3</th>\n",
       "      <td>50030</td>\n",
       "      <td>0</td>\n",
       "      <td>5.000000</td>\n",
       "      <td>Computer</td>\n",
       "      <td>3</td>\n",
       "      <td>14.000000</td>\n",
       "      <td>E wallet</td>\n",
       "      <td>Female</td>\n",
       "      <td>2.0</td>\n",
       "      <td>3</td>\n",
       "      <td>Fashion</td>\n",
       "      <td>2</td>\n",
       "      <td>Single</td>\n",
       "      <td>2</td>\n",
       "      <td>0</td>\n",
       "      <td>14.0</td>\n",
       "      <td>2.0</td>\n",
       "      <td>3.0</td>\n",
       "      <td>7.0</td>\n",
       "      <td>189.98</td>\n",
       "    </tr>\n",
       "    <tr>\n",
       "      <th>4</th>\n",
       "      <td>50031</td>\n",
       "      <td>0</td>\n",
       "      <td>2.000000</td>\n",
       "      <td>Computer</td>\n",
       "      <td>1</td>\n",
       "      <td>6.000000</td>\n",
       "      <td>COD</td>\n",
       "      <td>Male</td>\n",
       "      <td>2.0</td>\n",
       "      <td>3</td>\n",
       "      <td>Laptop &amp; Accessory</td>\n",
       "      <td>3</td>\n",
       "      <td>Divorced</td>\n",
       "      <td>2</td>\n",
       "      <td>0</td>\n",
       "      <td>13.0</td>\n",
       "      <td>0.0</td>\n",
       "      <td>1.0</td>\n",
       "      <td>9.0</td>\n",
       "      <td>143.19</td>\n",
       "    </tr>\n",
       "  </tbody>\n",
       "</table>\n",
       "</div>"
      ],
      "text/plain": [
       "   CustomerID  Churn     Tenure PreferredLoginDevice  CityTier  \\\n",
       "0       50027      0   8.000000         Mobile Phone         3   \n",
       "1       50028      0   7.347901                Phone         3   \n",
       "2       50029      0  18.000000                Phone         1   \n",
       "3       50030      0   5.000000             Computer         3   \n",
       "4       50031      0   2.000000             Computer         1   \n",
       "\n",
       "   WarehouseToHome PreferredPaymentMode  Gender  HourSpendOnApp  \\\n",
       "0         6.000000             E wallet    Male             3.0   \n",
       "1        12.000000             E wallet    Male             2.0   \n",
       "2        15.922018           Debit Card    Male             2.0   \n",
       "3        14.000000             E wallet  Female             2.0   \n",
       "4         6.000000                  COD    Male             2.0   \n",
       "\n",
       "   DeviceRegistered    PreferedOrderCat  SatisfactionScore MaritalStatus  \\\n",
       "0                 3             Fashion                  4      Divorced   \n",
       "1                 3  Laptop & Accessory                  3      Divorced   \n",
       "2                 3  Laptop & Accessory                  4       Married   \n",
       "3                 3             Fashion                  2        Single   \n",
       "4                 3  Laptop & Accessory                  3      Divorced   \n",
       "\n",
       "   NumberOfAddress  Complain  OrderIncreaseFromLastYear  CouponUsed  \\\n",
       "0                2         0                       13.0         1.0   \n",
       "1                3         1                       20.0         0.0   \n",
       "2                9         0                       18.0         1.0   \n",
       "3                2         0                       14.0         2.0   \n",
       "4                2         0                       13.0         0.0   \n",
       "\n",
       "   OrderCount  DaySinceLastOrder  CashbackAmount  \n",
       "0         1.0                6.0          172.95  \n",
       "1         4.0                5.0          123.06  \n",
       "2         1.0               15.0          123.48  \n",
       "3         3.0                7.0          189.98  \n",
       "4         1.0                9.0          143.19  "
      ]
     },
     "execution_count": 58,
     "metadata": {},
     "output_type": "execute_result"
    }
   ],
   "source": [
    "data_fix.head(5)"
   ]
  },
  {
   "cell_type": "code",
   "execution_count": 59,
   "metadata": {},
   "outputs": [],
   "source": [
    "kategori=[\"data\"]\n",
    "from sklearn import preprocessing\n",
    "le=preprocessing.LabelEncoder()\n",
    "for feature in kategori:\n",
    "    if feature in data_fix.columns.values:\n",
    "        data_fix[feature]=le.fit_transform(data_fix[feature])"
   ]
  },
  {
   "cell_type": "code",
   "execution_count": 60,
   "metadata": {},
   "outputs": [
    {
     "data": {
      "text/html": [
       "<div>\n",
       "<style scoped>\n",
       "    .dataframe tbody tr th:only-of-type {\n",
       "        vertical-align: middle;\n",
       "    }\n",
       "\n",
       "    .dataframe tbody tr th {\n",
       "        vertical-align: top;\n",
       "    }\n",
       "\n",
       "    .dataframe thead th {\n",
       "        text-align: right;\n",
       "    }\n",
       "</style>\n",
       "<table border=\"1\" class=\"dataframe\">\n",
       "  <thead>\n",
       "    <tr style=\"text-align: right;\">\n",
       "      <th></th>\n",
       "      <th>CustomerID</th>\n",
       "      <th>Churn</th>\n",
       "      <th>Tenure</th>\n",
       "      <th>PreferredLoginDevice</th>\n",
       "      <th>CityTier</th>\n",
       "      <th>WarehouseToHome</th>\n",
       "      <th>PreferredPaymentMode</th>\n",
       "      <th>Gender</th>\n",
       "      <th>HourSpendOnApp</th>\n",
       "      <th>DeviceRegistered</th>\n",
       "      <th>PreferedOrderCat</th>\n",
       "      <th>SatisfactionScore</th>\n",
       "      <th>MaritalStatus</th>\n",
       "      <th>NumberOfAddress</th>\n",
       "      <th>Complain</th>\n",
       "      <th>OrderIncreaseFromLastYear</th>\n",
       "      <th>CouponUsed</th>\n",
       "      <th>OrderCount</th>\n",
       "      <th>DaySinceLastOrder</th>\n",
       "      <th>CashbackAmount</th>\n",
       "    </tr>\n",
       "  </thead>\n",
       "  <tbody>\n",
       "    <tr>\n",
       "      <th>0</th>\n",
       "      <td>50027</td>\n",
       "      <td>0</td>\n",
       "      <td>8.000000</td>\n",
       "      <td>Mobile Phone</td>\n",
       "      <td>3</td>\n",
       "      <td>6.000000</td>\n",
       "      <td>E wallet</td>\n",
       "      <td>Male</td>\n",
       "      <td>3.0</td>\n",
       "      <td>3</td>\n",
       "      <td>Fashion</td>\n",
       "      <td>4</td>\n",
       "      <td>Divorced</td>\n",
       "      <td>2</td>\n",
       "      <td>0</td>\n",
       "      <td>13.0</td>\n",
       "      <td>1.0</td>\n",
       "      <td>1.0</td>\n",
       "      <td>6.0</td>\n",
       "      <td>172.95</td>\n",
       "    </tr>\n",
       "    <tr>\n",
       "      <th>1</th>\n",
       "      <td>50028</td>\n",
       "      <td>0</td>\n",
       "      <td>7.347901</td>\n",
       "      <td>Phone</td>\n",
       "      <td>3</td>\n",
       "      <td>12.000000</td>\n",
       "      <td>E wallet</td>\n",
       "      <td>Male</td>\n",
       "      <td>2.0</td>\n",
       "      <td>3</td>\n",
       "      <td>Laptop &amp; Accessory</td>\n",
       "      <td>3</td>\n",
       "      <td>Divorced</td>\n",
       "      <td>3</td>\n",
       "      <td>1</td>\n",
       "      <td>20.0</td>\n",
       "      <td>0.0</td>\n",
       "      <td>4.0</td>\n",
       "      <td>5.0</td>\n",
       "      <td>123.06</td>\n",
       "    </tr>\n",
       "    <tr>\n",
       "      <th>2</th>\n",
       "      <td>50029</td>\n",
       "      <td>0</td>\n",
       "      <td>18.000000</td>\n",
       "      <td>Phone</td>\n",
       "      <td>1</td>\n",
       "      <td>15.922018</td>\n",
       "      <td>Debit Card</td>\n",
       "      <td>Male</td>\n",
       "      <td>2.0</td>\n",
       "      <td>3</td>\n",
       "      <td>Laptop &amp; Accessory</td>\n",
       "      <td>4</td>\n",
       "      <td>Married</td>\n",
       "      <td>9</td>\n",
       "      <td>0</td>\n",
       "      <td>18.0</td>\n",
       "      <td>1.0</td>\n",
       "      <td>1.0</td>\n",
       "      <td>15.0</td>\n",
       "      <td>123.48</td>\n",
       "    </tr>\n",
       "    <tr>\n",
       "      <th>3</th>\n",
       "      <td>50030</td>\n",
       "      <td>0</td>\n",
       "      <td>5.000000</td>\n",
       "      <td>Computer</td>\n",
       "      <td>3</td>\n",
       "      <td>14.000000</td>\n",
       "      <td>E wallet</td>\n",
       "      <td>Female</td>\n",
       "      <td>2.0</td>\n",
       "      <td>3</td>\n",
       "      <td>Fashion</td>\n",
       "      <td>2</td>\n",
       "      <td>Single</td>\n",
       "      <td>2</td>\n",
       "      <td>0</td>\n",
       "      <td>14.0</td>\n",
       "      <td>2.0</td>\n",
       "      <td>3.0</td>\n",
       "      <td>7.0</td>\n",
       "      <td>189.98</td>\n",
       "    </tr>\n",
       "    <tr>\n",
       "      <th>4</th>\n",
       "      <td>50031</td>\n",
       "      <td>0</td>\n",
       "      <td>2.000000</td>\n",
       "      <td>Computer</td>\n",
       "      <td>1</td>\n",
       "      <td>6.000000</td>\n",
       "      <td>COD</td>\n",
       "      <td>Male</td>\n",
       "      <td>2.0</td>\n",
       "      <td>3</td>\n",
       "      <td>Laptop &amp; Accessory</td>\n",
       "      <td>3</td>\n",
       "      <td>Divorced</td>\n",
       "      <td>2</td>\n",
       "      <td>0</td>\n",
       "      <td>13.0</td>\n",
       "      <td>0.0</td>\n",
       "      <td>1.0</td>\n",
       "      <td>9.0</td>\n",
       "      <td>143.19</td>\n",
       "    </tr>\n",
       "  </tbody>\n",
       "</table>\n",
       "</div>"
      ],
      "text/plain": [
       "   CustomerID  Churn     Tenure PreferredLoginDevice  CityTier  \\\n",
       "0       50027      0   8.000000         Mobile Phone         3   \n",
       "1       50028      0   7.347901                Phone         3   \n",
       "2       50029      0  18.000000                Phone         1   \n",
       "3       50030      0   5.000000             Computer         3   \n",
       "4       50031      0   2.000000             Computer         1   \n",
       "\n",
       "   WarehouseToHome PreferredPaymentMode  Gender  HourSpendOnApp  \\\n",
       "0         6.000000             E wallet    Male             3.0   \n",
       "1        12.000000             E wallet    Male             2.0   \n",
       "2        15.922018           Debit Card    Male             2.0   \n",
       "3        14.000000             E wallet  Female             2.0   \n",
       "4         6.000000                  COD    Male             2.0   \n",
       "\n",
       "   DeviceRegistered    PreferedOrderCat  SatisfactionScore MaritalStatus  \\\n",
       "0                 3             Fashion                  4      Divorced   \n",
       "1                 3  Laptop & Accessory                  3      Divorced   \n",
       "2                 3  Laptop & Accessory                  4       Married   \n",
       "3                 3             Fashion                  2        Single   \n",
       "4                 3  Laptop & Accessory                  3      Divorced   \n",
       "\n",
       "   NumberOfAddress  Complain  OrderIncreaseFromLastYear  CouponUsed  \\\n",
       "0                2         0                       13.0         1.0   \n",
       "1                3         1                       20.0         0.0   \n",
       "2                9         0                       18.0         1.0   \n",
       "3                2         0                       14.0         2.0   \n",
       "4                2         0                       13.0         0.0   \n",
       "\n",
       "   OrderCount  DaySinceLastOrder  CashbackAmount  \n",
       "0         1.0                6.0          172.95  \n",
       "1         4.0                5.0          123.06  \n",
       "2         1.0               15.0          123.48  \n",
       "3         3.0                7.0          189.98  \n",
       "4         1.0                9.0          143.19  "
      ]
     },
     "execution_count": 60,
     "metadata": {},
     "output_type": "execute_result"
    }
   ],
   "source": [
    "data_fix.head(5)"
   ]
  },
  {
   "cell_type": "code",
   "execution_count": 63,
   "metadata": {},
   "outputs": [],
   "source": [
    "from sklearn.preprocessing import StandardScaler\n",
    "from sklearn.decomposition import PCA"
   ]
  },
  {
   "cell_type": "code",
   "execution_count": 64,
   "metadata": {},
   "outputs": [
    {
     "data": {
      "text/plain": [
       "(20, 1896)"
      ]
     },
     "execution_count": 64,
     "metadata": {},
     "output_type": "execute_result"
    }
   ],
   "source": [
    "data_fix_x=np.array([data_fix[\"CustomerID\"],data_fix[\"Churn\"],data_fix[\"Tenure\"],data_fix[\"PreferredLoginDevice\"],data_fix[\"CityTier\"],data_fix[\"WarehouseToHome\"],data_fix[\"PreferredPaymentMode\"],data_fix[\"Gender\"],data_fix[\"HourSpendOnApp\"],data_fix[\"DeviceRegistered\"],data_fix[\"PreferedOrderCat\"],data_fix[\"SatisfactionScore\"],data_fix[\"MaritalStatus\"],data_fix[\"NumberOfAddress\"],data_fix[\"Complain\"],data_fix[\"OrderIncreaseFromLastYear\"],data_fix[\"CouponUsed\"],data_fix[\"OrderCount\"],data_fix[\"DaySinceLastOrder\"],data_fix[\"CashbackAmount\"]])\n",
    "data_fix_x.shape"
   ]
  },
  {
   "cell_type": "code",
   "execution_count": 65,
   "metadata": {},
   "outputs": [
    {
     "data": {
      "text/plain": [
       "array([[50027, 50028, 50029, ..., 55605, 55613, 55622],\n",
       "       [0, 0, 0, ..., 1, 1, 1],\n",
       "       [8.0, 7.347901092581943, 18.0, ..., 20.0, 14.0, 14.0],\n",
       "       ...,\n",
       "       [1.0, 4.0, 1.0, ..., 10.0, 2.0, 2.694066412629287],\n",
       "       [6.0, 5.0, 15.0, ..., 9.0, 2.0, 1.0],\n",
       "       [172.95, 123.06, 123.48, ..., 148.39, 192.28, 233.54]],\n",
       "      dtype=object)"
      ]
     },
     "execution_count": 65,
     "metadata": {},
     "output_type": "execute_result"
    }
   ],
   "source": [
    "import numpy as np\n",
    "data_fix_x"
   ]
  },
  {
   "cell_type": "code",
   "execution_count": 66,
   "metadata": {},
   "outputs": [
    {
     "data": {
      "text/plain": [
       "(1896, 20)"
      ]
     },
     "execution_count": 66,
     "metadata": {},
     "output_type": "execute_result"
    }
   ],
   "source": [
    "data_fix_xt=data_fix_x.transpose()\n",
    "data_fix_xt.shape"
   ]
  }
 ],
 "metadata": {
  "kernelspec": {
   "display_name": "Python 3",
   "language": "python",
   "name": "python3"
  },
  "language_info": {
   "codemirror_mode": {
    "name": "ipython",
    "version": 3
   },
   "file_extension": ".py",
   "mimetype": "text/x-python",
   "name": "python",
   "nbconvert_exporter": "python",
   "pygments_lexer": "ipython3",
   "version": "3.7.6"
  }
 },
 "nbformat": 4,
 "nbformat_minor": 4
}
